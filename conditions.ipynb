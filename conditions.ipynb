{
 "cells": [
  {
   "cell_type": "markdown",
   "metadata": {},
   "source": [
    "conditional statement\n"
   ]
  },
  {
   "cell_type": "code",
   "execution_count": 1,
   "metadata": {},
   "outputs": [
    {
     "name": "stdout",
     "output_type": "stream",
     "text": [
      "b is greater than a\n",
      "c is greater than a\n",
      "a is greater than b\n"
     ]
    }
   ],
   "source": [
    "a=10\n",
    "b=20\n",
    "c=30\n",
    "if a>b:\n",
    "  print(\"a is greater than b\")\n",
    "if a>c:\n",
    "  print(\"a is greater than c\")\n",
    "if b>c:\n",
    "  print(\"b is greater than c\")\n",
    "if b>a:\n",
    "  print(\"b is greater than a\")\n",
    "if c>a:\n",
    "  print(\"c is greater than a\")\n",
    "if c>b:\n",
    "    print(\"a is greater than b\")    \n",
    "\n"
   ]
  },
  {
   "cell_type": "code",
   "execution_count": 5,
   "metadata": {},
   "outputs": [
    {
     "name": "stdout",
     "output_type": "stream",
     "text": [
      "a is greater than b\n"
     ]
    }
   ],
   "source": [
    "a=10\n",
    "b=20\n",
    "c=30\n",
    "if a>b:\n",
    "  print(\"a is greater than b\")\n",
    "elif a>c:\n",
    "  print(\"a is greater than c\")\n",
    "elif b>c:\n",
    "  print(\"b is greater than c\")\n",
    "elif b<a:\n",
    "  print(\"b is greater than a\")\n",
    "elif a>c:\n",
    "  print(\"c is greater than a\")\n",
    "elif c>b:\n",
    "    print(\"a is greater than b\")    \n",
    "else:\n",
    "  print(\"invalid number\")"
   ]
  },
  {
   "cell_type": "code",
   "execution_count": 6,
   "metadata": {},
   "outputs": [
    {
     "name": "stdout",
     "output_type": "stream",
     "text": [
      " a is odd number\n"
     ]
    }
   ],
   "source": [
    "a=int(input(\"enter the number\"))\n",
    "if a%2==0:\n",
    "    print(\"a is even number \")\n",
    "else:\n",
    "    print(\" a is odd number\")"
   ]
  },
  {
   "cell_type": "code",
   "execution_count": 7,
   "metadata": {},
   "outputs": [
    {
     "name": "stdout",
     "output_type": "stream",
     "text": [
      "the charcter is vowel\n"
     ]
    }
   ],
   "source": [
    "ch= (input(\"enter a ch\"))\n",
    "vowel =(\"a\",\"e\",\"i\",\"o\",\"u\")\n",
    "if ch in vowel:\n",
    "\n",
    "        print(\"the charcter is vowel\")\n",
    "else:\n",
    "        print(\"the charcter is not a vowel\")"
   ]
  },
  {
   "cell_type": "code",
   "execution_count": 5,
   "metadata": {},
   "outputs": [
    {
     "name": "stdout",
     "output_type": "stream",
     "text": [
      " it is a scalene triangle\n"
     ]
    }
   ],
   "source": [
    "x=(input (\"enter the sides:\"))\n",
    "y=(input(\"enter the sides\"))\n",
    "z=(input(\"enter the sides\"))\n",
    "if x==y==z:\n",
    "    print(\"it is a eqilateral triangle\")\n",
    "elif x==y or y==z or z==x:\n",
    "    print(\"it is a iscoles triangle\")\n",
    "else:\n",
    "    print(\" it is a scalene triangle\")\n"
   ]
  },
  {
   "cell_type": "code",
   "execution_count": 8,
   "metadata": {},
   "outputs": [
    {
     "name": "stdout",
     "output_type": "stream",
     "text": [
      "zomato is not in mobiles apps\n"
     ]
    }
   ],
   "source": [
    "mobileapps =(input(\"fb\"\"whatapp\"\"zomato\"))\n",
    "if \"zomato\" in mobileapps:\n",
    "    print(\"zomato in list of mobile apps\")\n",
    "else:\n",
    "    print(\"zomato is not in mobiles apps\")"
   ]
  },
  {
   "cell_type": "code",
   "execution_count": null,
   "metadata": {},
   "outputs": [
    {
     "name": "stdout",
     "output_type": "stream",
     "text": [
      "it is not a vowel\n"
     ]
    }
   ],
   "source": [
    "ch=input(\"enter a ch\")\n",
    "if ch=='a' or ch=='e' or ch=='i' or ch=='o' or ch=='u':\n",
    "    print(\"it is a vowel\")\n",
    "else:\n",
    "    print(\"it is not a vowel\")"
   ]
  },
  {
   "cell_type": "code",
   "execution_count": 9,
   "metadata": {},
   "outputs": [
    {
     "name": "stdout",
     "output_type": "stream",
     "text": [
      "it is a leap year\n"
     ]
    }
   ],
   "source": [
    "year=int(input(\"Enter a year:\"))\n",
    "if (year%4==0 and year%100!=0) or (year%400==0):\n",
    "    print(\"it is a leap year\")\n",
    "else:\n",
    "    print(\"it is not a leap year\")"
   ]
  },
  {
   "cell_type": "code",
   "execution_count": 3,
   "metadata": {},
   "outputs": [
    {
     "name": "stdout",
     "output_type": "stream",
     "text": [
      "helloworld\n"
     ]
    }
   ],
   "source": [
    "x=\"hello\"\n",
    "y=\"world\"\n",
    "z=x+y\n",
    "print(z)"
   ]
  },
  {
   "cell_type": "code",
   "execution_count": 35,
   "metadata": {},
   "outputs": [
    {
     "name": "stdout",
     "output_type": "stream",
     "text": [
      "hello\n"
     ]
    }
   ],
   "source": [
    "print(\"hello\")"
   ]
  },
  {
   "cell_type": "code",
   "execution_count": 9,
   "metadata": {},
   "outputs": [
    {
     "name": "stdout",
     "output_type": "stream",
     "text": [
      "Positive number\n"
     ]
    }
   ],
   "source": [
    "num = int(input(\"Enter a number: \"))\n",
    "if num > 0:\n",
    "   print(\"Positive number\")\n",
    "elif num == 0:\n",
    "   print(\"Zero\")\n",
    "else:\n",
    "   print(\"Negative number\")\n"
   ]
  },
  {
   "cell_type": "code",
   "execution_count": 49,
   "metadata": {},
   "outputs": [
    {
     "name": "stdout",
     "output_type": "stream",
     "text": [
      "odd\n"
     ]
    }
   ],
   "source": [
    "num = int(input(\"Enter a number: \"))\n",
    "if year %400==0:\n",
    "   print(\"even\")\n",
    "elif year %2==1:\n",
    "    print (\"odd\")\n",
    "else:\n",
    "   print(\"zero\")"
   ]
  },
  {
   "cell_type": "code",
   "execution_count": 2,
   "metadata": {},
   "outputs": [
    {
     "ename": "NameError",
     "evalue": "name 'num' is not defined",
     "output_type": "error",
     "traceback": [
      "\u001b[1;31m---------------------------------------------------------------------------\u001b[0m",
      "\u001b[1;31mNameError\u001b[0m                                 Traceback (most recent call last)",
      "\u001b[1;32mc:\\Users\\HP\\Desktop\\capsule\\conditions.ipynb Cell 14\u001b[0m line \u001b[0;36m2\n\u001b[0;32m      <a href='vscode-notebook-cell:/c%3A/Users/HP/Desktop/capsule/conditions.ipynb#X16sZmlsZQ%3D%3D?line=0'>1</a>\u001b[0m year \u001b[39m=\u001b[39m \u001b[39mint\u001b[39m(\u001b[39minput\u001b[39m(\u001b[39m\"\u001b[39m\u001b[39mEnter a year: \u001b[39m\u001b[39m\"\u001b[39m))\n\u001b[1;32m----> <a href='vscode-notebook-cell:/c%3A/Users/HP/Desktop/capsule/conditions.ipynb#X16sZmlsZQ%3D%3D?line=1'>2</a>\u001b[0m \u001b[39mif\u001b[39;00m num \u001b[39m%\u001b[39m\u001b[39m4\u001b[39m\u001b[39m==\u001b[39m\u001b[39m0\u001b[39m \u001b[39mor\u001b[39;00m num\u001b[39m%\u001b[39m\u001b[39m400\u001b[39m\u001b[39m==\u001b[39m\u001b[39m0\u001b[39m:\n\u001b[0;32m      <a href='vscode-notebook-cell:/c%3A/Users/HP/Desktop/capsule/conditions.ipynb#X16sZmlsZQ%3D%3D?line=3'>4</a>\u001b[0m    \u001b[39mprint\u001b[39m(\u001b[39m\"\u001b[39m\u001b[39mit is a leap year\u001b[39m\u001b[39m\"\u001b[39m)\n\u001b[0;32m      <a href='vscode-notebook-cell:/c%3A/Users/HP/Desktop/capsule/conditions.ipynb#X16sZmlsZQ%3D%3D?line=4'>5</a>\u001b[0m \u001b[39melse\u001b[39;00m:\n",
      "\u001b[1;31mNameError\u001b[0m: name 'num' is not defined"
     ]
    }
   ],
   "source": [
    "year = int(input(\"Enter a year: \"))\n",
    "if num %4==0 or num%400==0:\n",
    "   \n",
    "   print(\"it is a leap year\")\n",
    "else:\n",
    "   print(\"it is not a leap year\")"
   ]
  },
  {
   "cell_type": "markdown",
   "metadata": {},
   "source": [
    "Nested if"
   ]
  },
  {
   "cell_type": "code",
   "execution_count": 1,
   "metadata": {},
   "outputs": [
    {
     "name": "stdout",
     "output_type": "stream",
     "text": [
      "poor\n"
     ]
    }
   ],
   "source": [
    "marks=int(input(\"enter your marks\"))\n",
    "if marks>50:\n",
    "    if marks>75:\n",
    "        if marks>90:\n",
    "            print(\"exxecelent\")\n",
    "        else:\n",
    "            print(\"very good\")\n",
    "    else:\n",
    "        print(\"good\")\n",
    "else:\n",
    "    print(\"poor\")        "
   ]
  },
  {
   "cell_type": "code",
   "execution_count": 12,
   "metadata": {},
   "outputs": [
    {
     "name": "stdout",
     "output_type": "stream",
     "text": [
      "zero\n"
     ]
    }
   ],
   "source": [
    "number=int(input(\"enter number\"))\n",
    "if number>=0:\n",
    "    if number==0:\n",
    "        print(\"zero\")\n",
    "    else:\n",
    "        print(\"positive number\")   \n",
    "else:\n",
    "    print(\"negative number\")         "
   ]
  },
  {
   "cell_type": "code",
   "execution_count": 5,
   "metadata": {},
   "outputs": [],
   "source": [
    "username=input(\"enter you name\")\n",
    "email=input(\"enter your email\")\n",
    "pwd=input(\"enter your pwd\")\n",
    "pwd2=input(\"confirm your password\")\n",
    " \n",
    "if  len(username)>=4 and len(username)<=15:\n",
    "   if'@' in email and email.islower() and len(email)>10:\n",
    "     if len (pwd)>=6 and pwd!=username:\n",
    "      if pwd==pwd2:\n",
    "        print(\"hurray\")\n",
    "      else:\n",
    "        print(\"password do not match🤣\")\n",
    "     else:\n",
    "      print(\"password is invalid😁\")\n",
    "   else:\n",
    "     print(\"email is invalid😒\") \n",
    "else:\n",
    "    print(\"username is invalid👍\")"
   ]
  }
 ],
 "metadata": {
  "kernelspec": {
   "display_name": "Python 3",
   "language": "python",
   "name": "python3"
  },
  "language_info": {
   "codemirror_mode": {
    "name": "ipython",
    "version": 3
   },
   "file_extension": ".py",
   "mimetype": "text/x-python",
   "name": "python",
   "nbconvert_exporter": "python",
   "pygments_lexer": "ipython3",
   "version": "3.11.5"
  },
  "orig_nbformat": 4
 },
 "nbformat": 4,
 "nbformat_minor": 2
}
