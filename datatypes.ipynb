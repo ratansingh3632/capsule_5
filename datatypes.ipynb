{
 "cells": [
  {
   "cell_type": "code",
   "execution_count": 1,
   "metadata": {},
   "outputs": [
    {
     "name": "stdout",
     "output_type": "stream",
     "text": [
      "iphone\n",
      "bhaubali\n",
      "{2, 4, 5, 6, 7}\n"
     ]
    }
   ],
   "source": [
    "phones='iphone'\n",
    "print(phones)\n",
    "movies='bhaubali'\n",
    "print(movies)\n",
    "numbers={2,4,5,6,7,4,5}\n",
    "print(numbers)"
   ]
  },
  {
   "cell_type": "code",
   "execution_count": 82,
   "metadata": {},
   "outputs": [
    {
     "name": "stdout",
     "output_type": "stream",
     "text": [
      "['hp', 'dell', 'sony']\n"
     ]
    }
   ],
   "source": [
    "laptop=['hp','dell','sony']\n",
    "print(laptop)"
   ]
  },
  {
   "cell_type": "code",
   "execution_count": 83,
   "metadata": {},
   "outputs": [
    {
     "name": "stdout",
     "output_type": "stream",
     "text": [
      "{'NAME': 'TCS', 'PACKAGE': 25, 'QUALIFICATION': 'B.TECH', 'LOCATION': 'NOIDA'}\n"
     ]
    }
   ],
   "source": [
    "MNCS={\n",
    "    'NAME':'TCS',\n",
    "    'PACKAGE':25,\n",
    "     'QUALIFICATION':'B.TECH',\n",
    "     'LOCATION':'NOIDA'\n",
    "\n",
    "\n",
    "\n",
    "}\n",
    "print(MNCS)"
   ]
  },
  {
   "cell_type": "markdown",
   "metadata": {},
   "source": [
    "#### string Concatenation"
   ]
  },
  {
   "cell_type": "code",
   "execution_count": 84,
   "metadata": {},
   "outputs": [
    {
     "name": "stdout",
     "output_type": "stream",
     "text": [
      "my name is ratan singh , my age is : 21\n"
     ]
    }
   ],
   "source": [
    "fname=\"ratan\"\n",
    "lname=\"singh\"\n",
    "age=\"21\"\n",
    "name=fname+\" \"+lname+\" \"+age\n",
    "print(\"my name is ratan singh ,\" ,\"my age is :\",age)"
   ]
  },
  {
   "cell_type": "code",
   "execution_count": 85,
   "metadata": {},
   "outputs": [
    {
     "name": "stdout",
     "output_type": "stream",
     "text": [
      "My name is ratan,and my age is 21\n"
     ]
    }
   ],
   "source": [
    "a=\"ratan\"\n",
    "b=\"21\"\n",
    "print(f\"My name is {a},and my age is {b}\")"
   ]
  },
  {
   "cell_type": "code",
   "execution_count": 86,
   "metadata": {},
   "outputs": [
    {
     "name": "stdout",
     "output_type": "stream",
     "text": [
      "40\n"
     ]
    }
   ],
   "source": [
    "a=10\n",
    "b=\"30\"\n",
    "z=int(b)\n",
    "c=a+z\n",
    "print(c)"
   ]
  },
  {
   "cell_type": "code",
   "execution_count": 87,
   "metadata": {},
   "outputs": [
    {
     "name": "stdout",
     "output_type": "stream",
     "text": [
      "3010\n"
     ]
    }
   ],
   "source": [
    "a=10\n",
    "b=\"30\"\n",
    "z=str(a)\n",
    "c=b+z\n",
    "print(c)"
   ]
  },
  {
   "cell_type": "code",
   "execution_count": 88,
   "metadata": {},
   "outputs": [
    {
     "name": "stdout",
     "output_type": "stream",
     "text": [
      "90\n"
     ]
    }
   ],
   "source": [
    "a=60\n",
    "b=30\n",
    "z=int(a)\n",
    "c=b+z\n",
    "print(c)"
   ]
  },
  {
   "cell_type": "code",
   "execution_count": 89,
   "metadata": {},
   "outputs": [
    {
     "name": "stdout",
     "output_type": "stream",
     "text": [
      "My name is ratan singh yadav,my age is 21\n"
     ]
    }
   ],
   "source": [
    "a=\"ratan singh yadav\"\n",
    "b=21\n",
    "print(f\"My name is {a},my age is {b}\")"
   ]
  },
  {
   "cell_type": "code",
   "execution_count": 10,
   "metadata": {},
   "outputs": [
    {
     "name": "stdout",
     "output_type": "stream",
     "text": [
      "name:john\n",
      "age:34\n",
      "class:10th\n"
     ]
    }
   ],
   "source": [
    "student={\n",
    "    'name':'john',\n",
    "    'age':34,\n",
    "    'class':'10th'\n",
    "}\n",
    "for key,value in student.items():\n",
    "    print(f'{key}:{value}')\n"
   ]
  }
 ],
 "metadata": {
  "kernelspec": {
   "display_name": "Python 3",
   "language": "python",
   "name": "python3"
  },
  "language_info": {
   "codemirror_mode": {
    "name": "ipython",
    "version": 3
   },
   "file_extension": ".py",
   "mimetype": "text/x-python",
   "name": "python",
   "nbconvert_exporter": "python",
   "pygments_lexer": "ipython3",
   "version": "3.11.5"
  },
  "orig_nbformat": 4
 },
 "nbformat": 4,
 "nbformat_minor": 2
}
