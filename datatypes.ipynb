{
 "cells": [
  {
   "cell_type": "code",
   "execution_count": 27,
   "metadata": {},
   "outputs": [
    {
     "name": "stdout",
     "output_type": "stream",
     "text": [
      "iphone\n",
      "bhaubali\n",
      "{2, 4, 5, 6, 7}\n"
     ]
    }
   ],
   "source": [
    "phones='iphone'\n",
    "print(phones)\n",
    "movies='bhaubali'\n",
    "print(movies)\n",
    "numbers={2,4,5,6,7,4,5}\n",
    "print(numbers)"
   ]
  },
  {
   "cell_type": "code",
   "execution_count": 28,
   "metadata": {},
   "outputs": [
    {
     "name": "stdout",
     "output_type": "stream",
     "text": [
      "['hp', 'dell', 'sony']\n"
     ]
    }
   ],
   "source": [
    "laptop=['hp','dell','sony']\n",
    "print(laptop)"
   ]
  },
  {
   "cell_type": "code",
   "execution_count": 29,
   "metadata": {},
   "outputs": [
    {
     "name": "stdout",
     "output_type": "stream",
     "text": [
      "{'NAME': 'TCS', 'PACKAGE': 25, 'QUALIFICATION': 'B.TECH', 'LOCATION': 'NOIDA'}\n"
     ]
    }
   ],
   "source": [
    "MNCS={\n",
    "    'NAME':'TCS',\n",
    "    'PACKAGE':25,\n",
    "     'QUALIFICATION':'B.TECH',\n",
    "     'LOCATION':'NOIDA'\n",
    "\n",
    "\n",
    "\n",
    "}\n",
    "print(MNCS)"
   ]
  }
 ],
 "metadata": {
  "kernelspec": {
   "display_name": "Python 3",
   "language": "python",
   "name": "python3"
  },
  "language_info": {
   "codemirror_mode": {
    "name": "ipython",
    "version": 3
   },
   "file_extension": ".py",
   "mimetype": "text/x-python",
   "name": "python",
   "nbconvert_exporter": "python",
   "pygments_lexer": "ipython3",
   "version": "3.11.5"
  },
  "orig_nbformat": 4
 },
 "nbformat": 4,
 "nbformat_minor": 2
}
